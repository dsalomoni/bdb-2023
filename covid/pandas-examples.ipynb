{
 "cells": [
  {
   "cell_type": "markdown",
   "id": "5a63e68d-5f9d-4b06-ad6c-c157b3799b8f",
   "metadata": {},
   "source": [
    "# Biomedical Data Bases, 2022-2023\n",
    "### Pandas examples\n",
    "These are notes by prof. Davide Salomoni (d.salomoni@unibo.it) for the Biomedical Data Base course at the University of Bologna, academic year 2022-2023."
   ]
  },
  {
   "cell_type": "markdown",
   "id": "5a12acf0-acf0-4d5a-8d09-bd18ba0eb71d",
   "metadata": {},
   "source": [
    "## Read CSV data into a Pandas data frame\n",
    "Import pandas, then use _read_csv()_ to create the data frame and print its columns.\n",
    "<br>\n",
    "Click on Run in Jupyter to execute the cell."
   ]
  },
  {
   "cell_type": "code",
   "execution_count": null,
   "id": "498fdf89-0dff-4e18-a80f-1ff24cc6f992",
   "metadata": {},
   "outputs": [],
   "source": [
    "import pandas as pd\n",
    "df = pd.read_csv('covid19-sample.csv')"
   ]
  },
  {
   "cell_type": "code",
   "execution_count": null,
   "id": "98874253-f583-4aad-baa2-a184a5a73708",
   "metadata": {},
   "outputs": [],
   "source": [
    "type(df)"
   ]
  },
  {
   "cell_type": "code",
   "execution_count": null,
   "id": "0910bf68-68f0-491d-be10-5152b82758ee",
   "metadata": {},
   "outputs": [],
   "source": [
    "print(df.columns)"
   ]
  },
  {
   "cell_type": "code",
   "execution_count": null,
   "id": "0dcfb155-7844-4977-b51f-0756b65a4097",
   "metadata": {},
   "outputs": [],
   "source": [
    "df.indicator.unique()"
   ]
  },
  {
   "cell_type": "code",
   "execution_count": null,
   "id": "eae10360-4f71-4920-8b90-952e2a6431f7",
   "metadata": {},
   "outputs": [],
   "source": [
    "# check how many rows and columns we have\n",
    "shape = df.shape\n",
    "print(shape)"
   ]
  },
  {
   "cell_type": "code",
   "execution_count": null,
   "id": "a0908b74-86bd-4381-8c96-8435e6a85853",
   "metadata": {},
   "outputs": [],
   "source": [
    "# how many elements are there in total?\n",
    "# (you could have directly used for that also df.size)\n",
    "print(shape[0] * shape[1])"
   ]
  },
  {
   "cell_type": "code",
   "execution_count": null,
   "id": "3c01d8a3-618c-4de3-b760-f64929ae082d",
   "metadata": {},
   "outputs": [],
   "source": [
    "print(df.size)"
   ]
  },
  {
   "cell_type": "code",
   "execution_count": null,
   "id": "a3c54d97-eb09-45ba-b338-67e4b4f0ee4c",
   "metadata": {},
   "outputs": [],
   "source": [
    "# the head function displays by default the first 5 records of a dataframe\n",
    "df.head()"
   ]
  },
  {
   "cell_type": "code",
   "execution_count": null,
   "id": "9051bffc-ddb2-4f94-a88f-177947a10ad3",
   "metadata": {},
   "outputs": [],
   "source": [
    "# you can speficy how many records you want from head()\n",
    "df.head(10)"
   ]
  },
  {
   "cell_type": "code",
   "execution_count": null,
   "id": "9fac8404-8a61-4885-aafb-9eba8edd674e",
   "metadata": {},
   "outputs": [],
   "source": [
    "# tail() is similar to head() but it starts from the bottom of the dataframe\n",
    "df.tail(3)"
   ]
  },
  {
   "cell_type": "code",
   "execution_count": null,
   "id": "c4c0dace-d1c9-4d17-bde8-133069a62846",
   "metadata": {},
   "outputs": [],
   "source": [
    "# you can read just some columns from a CSV file\n",
    "my_columns = ['country', 'weekly_count', 'year_week']\n",
    "df_filtered = pd.read_csv('covid19-sample.csv', usecols=my_columns)\n",
    "df_filtered.head(10)"
   ]
  },
  {
   "cell_type": "code",
   "execution_count": null,
   "id": "8f1d5ef0-1c92-443e-aae2-35bb1840b9b9",
   "metadata": {},
   "outputs": [],
   "source": [
    "# dataframes support the regular Python slicing rules\n",
    "df[3500:3504]"
   ]
  },
  {
   "cell_type": "code",
   "execution_count": null,
   "id": "181d3496-062f-46d6-a87f-4d3cb30315de",
   "metadata": {},
   "outputs": [],
   "source": [
    "df[777:778]"
   ]
  },
  {
   "cell_type": "code",
   "execution_count": null,
   "id": "09bc0ce0-67d7-47c7-841b-50e380ea1ccf",
   "metadata": {},
   "outputs": [],
   "source": [
    "# display just one column\n",
    "df[777:778]['year_week']"
   ]
  },
  {
   "cell_type": "code",
   "execution_count": null,
   "id": "15765c29-7498-4f6d-b512-66d4f8d5c43f",
   "metadata": {},
   "outputs": [],
   "source": [
    "# which is equivalent to this notation:\n",
    "df[777:778].year_week"
   ]
  },
  {
   "cell_type": "code",
   "execution_count": null,
   "id": "e9343a49-bc10-4938-8cf1-890011951c8a",
   "metadata": {},
   "outputs": [],
   "source": [
    "# or display multiple columns\n",
    "df.head()[['country','year_week']]"
   ]
  },
  {
   "cell_type": "code",
   "execution_count": null,
   "id": "0fbd8e1c-6ca6-4a82-8cba-06772f273a39",
   "metadata": {},
   "outputs": [],
   "source": [
    "# iterating can be done with the iterrows() function. Let's do it for the first 25 rows:\n",
    "for index, row in df.iterrows():\n",
    "    if index==25:\n",
    "        break\n",
    "    else:\n",
    "        print(index, row['country'], row['weekly_count'])"
   ]
  },
  {
   "cell_type": "code",
   "execution_count": null,
   "id": "ba51b858-b8e5-4cf2-9fc4-8a93060bdda3",
   "metadata": {},
   "outputs": [],
   "source": [
    "# or, for instance, from row 1871 to row 1899 (remember that the index starts from 0):\n",
    "for index, row in df.iterrows():\n",
    "    if index<1870:\n",
    "        continue\n",
    "    if index==1899:\n",
    "        break\n",
    "    else:\n",
    "        print(index, row['country'], row['weekly_count'])"
   ]
  },
  {
   "cell_type": "markdown",
   "id": "e627e66b-1250-40cd-bd2e-116f1271f4ee",
   "metadata": {},
   "source": [
    "## Use of Markdown\n",
    "\n",
    "We are going to use __[markdown](https://www.markdownguide.com/basic-syntax)__ \n",
    "to document our Jupyter notebook cells.\n",
    "<p>\n",
    "Inline LaTeX: $\\sigma = \\sqrt{\\frac{\\sum{(x-\\stackrel{\\_}{x})}^2}{n-1}}$\n",
    "<p>\n",
    "\n",
    "An example of _code embedding_:\n",
    "``` python\n",
    "    import statistics\n",
    "    import random\n",
    "    \n",
    "    n = random.sample(range(1,100), 10)\n",
    "    print(\"n=%s, stdev=%.02f\" % (n, statistics.stdev(n)))\n",
    "```"
   ]
  },
  {
   "cell_type": "markdown",
   "id": "4f60d47f-16cf-4e31-bbf9-e5abe6e7bdf7",
   "metadata": {},
   "source": [
    "## Create a convenience function to map a date to a week number"
   ]
  },
  {
   "cell_type": "code",
   "execution_count": null,
   "id": "da125a12-ffca-46d8-8377-e4393a7b3192",
   "metadata": {},
   "outputs": [],
   "source": [
    "import datetime\n",
    "def week_string(year, month, day):\n",
    "    ''' return a week number in the format yyyy-ww; for example,\n",
    "    2021-45 for the 45th week of the year 2021. '''\n",
    "    week = datetime.date(year, month, day).isocalendar()[1]\n",
    "    return \"%s-%02d\" % (year, week)\n",
    "\n",
    "# example: find the week string for March 1, 2020\n",
    "print(week_string(2020, 3, 1))\n",
    "\n",
    "# example: find the week string for November 30, 2021\n",
    "print(week_string(2021, 11, 30))"
   ]
  },
  {
   "cell_type": "markdown",
   "id": "69729b35-46e3-470c-8a9c-0e8ae0e9f104",
   "metadata": {},
   "source": [
    "## Find cases where 'country' is Italy from March 2020 to November 2021"
   ]
  },
  {
   "cell_type": "code",
   "execution_count": null,
   "id": "abfca12f-af5c-49c3-88eb-a0cd93624378",
   "metadata": {},
   "outputs": [],
   "source": [
    "# convert the start and end date to the corresponding week numbers\n",
    "start_week = week_string(2020, 3, 1)\n",
    "end_week = week_string(2021, 11, 30)"
   ]
  },
  {
   "cell_type": "markdown",
   "id": "52450d66-8cb7-4680-859f-98cd12c8dd2a",
   "metadata": {},
   "source": [
    "### First attempt: the \"brute-force\" way, using iterrows()"
   ]
  },
  {
   "cell_type": "code",
   "execution_count": null,
   "id": "66f47530-abf7-46bb-baba-084fd797d19e",
   "metadata": {},
   "outputs": [],
   "source": [
    "# benchmark the code using the time module\n",
    "import time\n",
    "\n",
    "start_time = time.time()\n",
    "\n",
    "# create a dictionary with key = week string, and value = number of cases in that week\n",
    "it_cases = dict()\n",
    "for index,row in df.iterrows():\n",
    "    country = row['country']\n",
    "    if country == 'Italy':\n",
    "        indicator = row['indicator']\n",
    "        if indicator != 'cases':\n",
    "            continue\n",
    "        week = row['year_week']\n",
    "        if (week >= start_week) and (week <= end_week):\n",
    "            cases = row['weekly_count']\n",
    "            it_cases[week] = cases\n",
    "\n",
    "# create a new dataframe out of the it_cases dictionary. It will contain\n",
    "# only cases occurred in Italy between March 2020 and November 2021.\n",
    "df2 = pd.DataFrame(list(it_cases.items()), columns=['week', 'cases'])\n",
    "\n",
    "end_time = time.time()\n",
    "\n",
    "print('The brute-force method took %.2f seconds' % (end_time-start_time))"
   ]
  },
  {
   "cell_type": "code",
   "execution_count": null,
   "id": "3c336f0d-91a8-412d-b8c5-7f230016b51a",
   "metadata": {},
   "outputs": [],
   "source": [
    "%%timeit\n",
    "# benchmark the code using the %%timeit \"magic command\". Note that it MUST be the first line of the cell.\n",
    "\n",
    "# create a dictionary with key = week string, and value = number of cases in that week\n",
    "it_cases = dict()\n",
    "for index,row in df.iterrows():\n",
    "    country = row['country']\n",
    "    if country == 'Italy':\n",
    "        indicator = row['indicator']\n",
    "        if indicator != 'cases':\n",
    "            continue\n",
    "        week = row['year_week']\n",
    "        if (week >= start_week) and (week <= end_week):\n",
    "            cases = row['weekly_count']\n",
    "            it_cases[week] = cases\n",
    "\n",
    "# create a new dataframe out of the it_cases dictionary. It will contain\n",
    "# only cases occurred in Italy between March 2020 and November 2021.\n",
    "df2 = pd.DataFrame(list(it_cases.items()), columns=['week', 'cases'])"
   ]
  },
  {
   "cell_type": "code",
   "execution_count": null,
   "id": "edc9b2fb-2518-4810-b15e-2d55ac801aed",
   "metadata": {},
   "outputs": [],
   "source": [
    "# the resulting dataframe only has the two columns week and cases\n",
    "df2.head()"
   ]
  },
  {
   "cell_type": "code",
   "execution_count": null,
   "id": "3fc9ff8a-8331-4481-85ea-096a9e4ec9d7",
   "metadata": {},
   "outputs": [],
   "source": [
    "# plot the cases\n",
    "df2.plot()"
   ]
  },
  {
   "cell_type": "markdown",
   "id": "3de7ad3e-f270-463f-8baf-2d396ff45b8a",
   "metadata": {},
   "source": [
    "### Second attempt: the \"pandas-native\" way, using df.query()"
   ]
  },
  {
   "cell_type": "code",
   "execution_count": null,
   "id": "84e56e6a-f5c3-4fb7-a70c-7ee4748725af",
   "metadata": {},
   "outputs": [],
   "source": [
    "start_time = time.time()\n",
    "\n",
    "# create a new dataframe using df.query(). It will contain\n",
    "# only cases occurred in Italy between March 2020 and November 2021.\n",
    "df3 = df.query('country==\"Italy\" and indicator==\"cases\" and year_week>=\"%s\" and year_week<=\"%s\"' % (start_week, end_week))\n",
    "\n",
    "end_time = time.time()\n",
    "\n",
    "print('The Pandas-native method took %.2f seconds' % (end_time-start_time))"
   ]
  },
  {
   "cell_type": "code",
   "execution_count": null,
   "id": "e61ca451-6082-4b68-b75e-e1a19f3199c6",
   "metadata": {},
   "outputs": [],
   "source": [
    "# the resulting dataframe is simply a filtered version of the original dataframe\n",
    "df3.head()"
   ]
  },
  {
   "cell_type": "code",
   "execution_count": null,
   "id": "242b0f64-09d7-4d80-9f0c-85bb58cda464",
   "metadata": {},
   "outputs": [],
   "source": [
    "# plot the cases (select the \"weekly_count\" column only)\n",
    "df3.plot(y='weekly_count')"
   ]
  },
  {
   "cell_type": "markdown",
   "id": "62ed3379-21fd-4e09-a8d3-c7d81b5ea03f",
   "metadata": {},
   "source": [
    "## Reading an Excel file\n",
    "\n",
    "### Remember that you need to have the openpyxl library installed"
   ]
  },
  {
   "cell_type": "code",
   "execution_count": null,
   "id": "781d1ec7-ad03-4026-af96-221c13df8745",
   "metadata": {},
   "outputs": [],
   "source": [
    "! pip install openpyxl"
   ]
  },
  {
   "cell_type": "code",
   "execution_count": null,
   "id": "5c970e19-1ea1-48b7-906f-38b39a320f29",
   "metadata": {},
   "outputs": [],
   "source": [
    "# create a dataframe from the excel file\n",
    "df = pd.read_excel('covid19-sample.xlsx')\n",
    "df3 = df.query('country==\"Italy\" and indicator==\"cases\" and year_week>=\"%s\" and year_week<=\"%s\"' % (start_week, end_week))\n",
    "df3.plot(y='weekly_count')"
   ]
  },
  {
   "cell_type": "code",
   "execution_count": null,
   "id": "4902de94-bd62-42e6-8e0a-bc1b904d7c31",
   "metadata": {},
   "outputs": [],
   "source": [
    "# Note that reading from an excel file is FAR slower than reading from a CSV file:\n",
    "\n",
    "start_time = time.time()\n",
    "df_csv = pd.read_csv('covid19-sample.csv')\n",
    "end_time = time.time()\n",
    "print('Reading the CSV file took %.2f seconds' % (end_time-start_time))\n",
    "\n",
    "start_time = time.time()\n",
    "df_excel = pd.read_excel('covid19-sample.xlsx')\n",
    "end_time = time.time()\n",
    "print('Reading the excel file took %.2f seconds' % (end_time-start_time))"
   ]
  },
  {
   "cell_type": "markdown",
   "id": "25fe1e78-a6e1-4d69-a7f7-6db258e5511a",
   "metadata": {},
   "source": [
    "## Examples of a few common pandas functions\n",
    "\n",
    "### sum()\n",
    "To compute the sum of all the deaths that are recorded in the COVID-19 DataFrame for Italy.\n",
    "1. Create a new dataframe containing only the records where the country is Italy and the indicator is deaths.\n",
    "2. Call sum() for the weekly_count column on that dataframe.\n",
    "3. Verify that you obtained the right number, checking that it is equal to cumulative_count as reported in the last row of the dataframe."
   ]
  },
  {
   "cell_type": "code",
   "execution_count": null,
   "id": "cc5c947d-8dac-4a88-b012-d4b5aa4513bb",
   "metadata": {},
   "outputs": [],
   "source": [
    "df_italy = df.query('country==\"Italy\" and indicator==\"deaths\"')\n",
    "df_italy['weekly_count'].sum()"
   ]
  },
  {
   "cell_type": "code",
   "execution_count": null,
   "id": "654252c8-db3c-40ee-acf7-da92d9babfc0",
   "metadata": {},
   "outputs": [],
   "source": [
    "df_italy.tail(1)"
   ]
  },
  {
   "cell_type": "markdown",
   "id": "467f1aa8-9db9-48a4-81f4-3d83723a6a79",
   "metadata": {},
   "source": [
    "### describe()\n",
    "Generate simple statistics of the df_italy dataframe."
   ]
  },
  {
   "cell_type": "code",
   "execution_count": null,
   "id": "108ce934-833e-4d13-bdf3-90d7fccbfc7a",
   "metadata": {},
   "outputs": [],
   "source": [
    "df_italy.describe()"
   ]
  },
  {
   "cell_type": "markdown",
   "id": "04114bab-73be-4bd5-a213-ded4b99fc1b8",
   "metadata": {},
   "source": [
    "### nunique()\n",
    "How many countries are recorded in the COVID-19 dataframe?"
   ]
  },
  {
   "cell_type": "code",
   "execution_count": null,
   "id": "d4daa1a7-332a-433b-bf21-8396d5d3344e",
   "metadata": {},
   "outputs": [],
   "source": [
    "df.nunique()"
   ]
  },
  {
   "cell_type": "markdown",
   "id": "160291b8-c336-416e-8d1f-91a7f36d0c8d",
   "metadata": {},
   "source": [
    "### groupby()\n",
    "Group the COVID-19 dataframe by continent, compute the sum of the columns (although logically summing some of the columns does not make sense, think about that). Then plot weekly_count."
   ]
  },
  {
   "cell_type": "code",
   "execution_count": null,
   "id": "1ba8691a-d20d-4ac8-8594-a44b75f2c66f",
   "metadata": {},
   "outputs": [],
   "source": [
    "df_grouped = df.groupby('continent')\n",
    "# by itself, groupby just returns a special type of dataframe, to which you should apply some function.\n",
    "# check the type of the returned dataframe:\n",
    "type(df_grouped)"
   ]
  },
  {
   "cell_type": "code",
   "execution_count": null,
   "id": "e7b625ec-2b42-4b8c-b578-2d8580920575",
   "metadata": {},
   "outputs": [],
   "source": [
    "# now sum the 'grouped' dataframe\n",
    "df_grouped.sum()"
   ]
  },
  {
   "cell_type": "code",
   "execution_count": null,
   "id": "81bdcf72-b568-46ac-a379-6bb7f5e544ae",
   "metadata": {},
   "outputs": [],
   "source": [
    "# plot weekly_count\n",
    "# use a bar plot, set the y-axis label and the title\n",
    "df_grouped.sum()['weekly_count'].plot(kind='bar', ylabel='Total cases', title='COVID-19 cases grouped by continent')"
   ]
  },
  {
   "cell_type": "markdown",
   "id": "6b48dfe2-c4a0-4da6-b41a-cf176416bbeb",
   "metadata": {},
   "source": [
    "Now check which countries are part of the group 'Oceania', using get_group()"
   ]
  },
  {
   "cell_type": "code",
   "execution_count": null,
   "id": "3c195fb8-f60e-49fc-81ee-0a8eacbc2590",
   "metadata": {},
   "outputs": [],
   "source": [
    "df_grouped.get_group('Oceania')"
   ]
  },
  {
   "cell_type": "markdown",
   "id": "1c9168ab-6e1b-4f61-8a10-052890447fde",
   "metadata": {},
   "source": [
    "How many unique countries are there? Use nunique() on the 'country' column to find out."
   ]
  },
  {
   "cell_type": "code",
   "execution_count": null,
   "id": "d93918df-ad7b-4459-a748-113b5f36eccd",
   "metadata": {},
   "outputs": [],
   "source": [
    "df_grouped.get_group('Oceania')['country'].nunique()"
   ]
  },
  {
   "cell_type": "markdown",
   "id": "9565110f-78c1-407b-b8a7-72431b1e89d9",
   "metadata": {},
   "source": [
    "Which countries are in the Oceania group? Use unique() (without the 'n') on the 'country' column to find out."
   ]
  },
  {
   "cell_type": "code",
   "execution_count": null,
   "id": "2633de2a-df8c-4e5d-8da2-eff35057bbd4",
   "metadata": {},
   "outputs": [],
   "source": [
    "df_grouped.get_group('Oceania')['country'].unique()"
   ]
  },
  {
   "cell_type": "code",
   "execution_count": null,
   "id": "47b72c9c-c426-40d3-80aa-75a32cb639ab",
   "metadata": {},
   "outputs": [],
   "source": [
    "# of course in the array above there is exactly the number of countries reported by nunique():\n",
    "print(len(df_grouped.get_group('Oceania')['country'].unique()))"
   ]
  },
  {
   "cell_type": "code",
   "execution_count": null,
   "id": "098e43de-cc0f-4ba6-9462-0dcdd757d5d1",
   "metadata": {},
   "outputs": [],
   "source": [
    "# or, explicitly verify that the two numbers are the same\n",
    "print(\n",
    "    len(df_grouped.get_group('Oceania')['country'].unique()) == \n",
    "    df_grouped.get_group('Oceania')['country'].nunique()\n",
    ")"
   ]
  },
  {
   "cell_type": "markdown",
   "id": "4da7d28c-16ad-4ead-85ad-9bbd90ebda80",
   "metadata": {},
   "source": [
    "### Some more groupby() examples\n",
    "\n",
    "The following examples use the \"NYC jobs\" dataset, which you should copy on your system from Virtuale and make it accessible to Jupyter."
   ]
  },
  {
   "cell_type": "code",
   "execution_count": null,
   "id": "6128eb52-18ad-4151-9d5f-e05b665548dc",
   "metadata": {},
   "outputs": [],
   "source": [
    "# adapt the following to reflect where you put your jobs dataset\n",
    "jobs = pd.read_csv('../../bdb/NYC_Jobs.csv')"
   ]
  },
  {
   "cell_type": "code",
   "execution_count": null,
   "id": "9a3513be-147b-4c1f-a39a-16e557f2d42b",
   "metadata": {},
   "outputs": [],
   "source": [
    "jobs.head()"
   ]
  },
  {
   "cell_type": "code",
   "execution_count": null,
   "id": "fdb0890f-08ce-44c9-8756-b291be4205f8",
   "metadata": {},
   "outputs": [],
   "source": [
    "# it's a relatively big dataframe (>5500 rows, 30 columns)\n",
    "jobs.shape"
   ]
  },
  {
   "cell_type": "code",
   "execution_count": null,
   "id": "4520ddd8-d95a-4e5b-9623-a35a1f1cad00",
   "metadata": {},
   "outputs": [],
   "source": [
    "# group by the Agency posting the job, and compute the mean of the numerical columns\n",
    "# note that computing the mean does not make sense for all the columns (e.g. Job ID)\n",
    "jobs.groupby('Agency').mean()"
   ]
  },
  {
   "cell_type": "code",
   "execution_count": null,
   "id": "eb5f45f8-7851-4f5c-931d-5db6fe146ae7",
   "metadata": {},
   "outputs": [],
   "source": [
    "# groupby applied to a single column\n",
    "jobs.groupby('Agency')['Salary Range From'].mean()"
   ]
  },
  {
   "cell_type": "code",
   "execution_count": null,
   "id": "5d3b64ad-2a29-4019-8673-5541e0fa45c9",
   "metadata": {},
   "outputs": [],
   "source": [
    "# how many jobs per agency?\n",
    "jobs.groupby('Agency')['# Of Positions'].count()"
   ]
  },
  {
   "cell_type": "code",
   "execution_count": null,
   "id": "a6f70a53-0996-4628-b978-670297127e46",
   "metadata": {},
   "outputs": [],
   "source": [
    "# sorted --> display the top 10 agencies in terms of published jobs\n",
    "jobs.groupby('Agency')['# Of Positions'].count().sort_values(ascending=False).head(10)"
   ]
  },
  {
   "cell_type": "code",
   "execution_count": null,
   "id": "e09557d7-af72-4bf9-b17d-327040710a91",
   "metadata": {},
   "outputs": [],
   "source": [
    "# group by multiple categories, e.g. Agency and Posting Type\n",
    "jobs.groupby(['Agency', 'Posting Type'])['Salary Range From'].mean()"
   ]
  },
  {
   "cell_type": "code",
   "execution_count": null,
   "id": "cf8d72b3-fa2a-4e4b-96cf-3e6ed6ea64e0",
   "metadata": {},
   "outputs": [],
   "source": [
    "# avoid that the grouped category becomes an index\n",
    "jobs.groupby(['Agency', 'Posting Type'], as_index=False)['Salary Range From'].mean()"
   ]
  },
  {
   "cell_type": "code",
   "execution_count": null,
   "id": "778f2711-8e54-48e1-8cad-91ecddaf8ee6",
   "metadata": {},
   "outputs": [],
   "source": [
    "# compute both mean and median for \"Salary Range From\"\n",
    "jobs.groupby('Agency')['Salary Range From'].agg(['mean', 'median'])"
   ]
  },
  {
   "cell_type": "code",
   "execution_count": null,
   "id": "64409372-fb0b-405a-bd36-adf7c912358b",
   "metadata": {},
   "outputs": [],
   "source": [
    "# check what are the keys of the grouped dataframe\n",
    "grouped_jobs = jobs.groupby('Agency')\n",
    "print(type(grouped_jobs))\n",
    "\n",
    "grouped_jobs.groups.keys()"
   ]
  },
  {
   "cell_type": "code",
   "execution_count": null,
   "id": "c5e952b1-9bb9-42a6-9a0c-da3818eb7800",
   "metadata": {},
   "outputs": [],
   "source": [
    "# get the members of a given group\n",
    "grouped_jobs.get_group('TAXI & LIMOUSINE COMMISSION')"
   ]
  },
  {
   "cell_type": "code",
   "execution_count": null,
   "id": "349d5854-c4af-4437-bcc8-d6bb6715eb29",
   "metadata": {},
   "outputs": [],
   "source": [
    "# if we want to categorize the salaries (for instance using \"Salary Range From\"), we could use jobs.groupby(\"Salary Range From\")\n",
    "# but this would create too many categories of salaries\n",
    "jobs.groupby('Salary Range From')['Salary Range From'].count()"
   ]
  },
  {
   "cell_type": "code",
   "execution_count": null,
   "id": "4dab2113-19b0-4ed9-b4af-d75241188417",
   "metadata": {},
   "outputs": [],
   "source": [
    "# pd.cut divides a dataframe in \"bins\". Let's apply it to the jobs dataframe.\n",
    "# here you can see also the automatically computed ranges of each bin.\n",
    "pd.cut(jobs['Salary Range From'], bins=3)"
   ]
  },
  {
   "cell_type": "code",
   "execution_count": null,
   "id": "cab292fd-4dac-45ca-b62f-26411bc4e3aa",
   "metadata": {},
   "outputs": [],
   "source": [
    "# let's create a new column, called \"salary_bin\", and associate it to 3 bins dividing the \"Salary Range From\", giving them some meaningful labels\n",
    "jobs['salary_bin'] = pd.cut(jobs['Salary Range From'], bins=3, labels=('low', 'middle', 'high'))\n",
    "jobs.head()"
   ]
  },
  {
   "cell_type": "code",
   "execution_count": null,
   "id": "8976d796-03a5-420a-89f1-b06fb670b0b7",
   "metadata": {},
   "outputs": [],
   "source": [
    "# we can now group by the salary_bin column\n",
    "jobs.groupby('salary_bin')['Salary Range From'].count()"
   ]
  },
  {
   "cell_type": "code",
   "execution_count": null,
   "id": "97044ee5-c327-439e-9979-f5e32979d049",
   "metadata": {},
   "outputs": [],
   "source": [
    "# and we can easily check multiple categories\n",
    "jobs.groupby(['Agency','salary_bin'])['Salary Range From'].count()"
   ]
  },
  {
   "cell_type": "code",
   "execution_count": null,
   "id": "7893bc7a-d912-420f-82fa-c590094f9385",
   "metadata": {},
   "outputs": [],
   "source": [
    "# the same, with some better formatting\n",
    "#jobs.groupby(['Agency','salary_bin'])['Salary Range From'].agg(count='count')\n",
    "pd.DataFrame(jobs.groupby(['Agency','salary_bin'])['Salary Range From'].count())"
   ]
  },
  {
   "cell_type": "code",
   "execution_count": null,
   "id": "8c43f08a-801f-4917-bf2c-2a7e06c0106b",
   "metadata": {},
   "outputs": [],
   "source": [
    "# difference between mean and median using the \"Salary Range From\" column\n",
    "\n",
    "print('Mean:', jobs['Salary Range From'].mean())\n",
    "print('Median:', jobs['Salary Range From'].median())"
   ]
  },
  {
   "cell_type": "markdown",
   "id": "41cec679-3120-4eb2-b837-8b4c99bcb7f2",
   "metadata": {},
   "source": [
    "## Exporting to Excel"
   ]
  },
  {
   "cell_type": "code",
   "execution_count": null,
   "id": "538a62e3-98f8-47ed-9ceb-999818c2bb2a",
   "metadata": {},
   "outputs": [],
   "source": [
    "# export all Italian data to a new Excel file using the to_excel() method\n",
    "df_italy = pd.read_excel('covid19-sample.xlsx').query('country == \"Italy\"')\n",
    "df_italy.to_excel('covid19-italy-only.xlsx')"
   ]
  },
  {
   "cell_type": "markdown",
   "id": "2bae7868-1cb5-4ae6-a566-4e00726eeac2",
   "metadata": {},
   "source": [
    "## Reading a CSV file from a remote location"
   ]
  },
  {
   "cell_type": "code",
   "execution_count": null,
   "id": "77086fb0-d3cc-401e-a19f-2c1bbba2c92d",
   "metadata": {},
   "outputs": [],
   "source": [
    "df = pd.read_csv('https://github.com/dsalomoni/bdb-2023/raw/main/covid/covid19-sample.csv')\n",
    "df_deaths_italy = df.query('country == \"Italy\" and indicator == \"deaths\"')\n",
    "df_deaths_italy['weekly_count'].sum()"
   ]
  }
 ],
 "metadata": {
  "kernelspec": {
   "display_name": "Python 3 (ipykernel)",
   "language": "python",
   "name": "python3"
  },
  "language_info": {
   "codemirror_mode": {
    "name": "ipython",
    "version": 3
   },
   "file_extension": ".py",
   "mimetype": "text/x-python",
   "name": "python",
   "nbconvert_exporter": "python",
   "pygments_lexer": "ipython3",
   "version": "3.10.4"
  }
 },
 "nbformat": 4,
 "nbformat_minor": 5
}
