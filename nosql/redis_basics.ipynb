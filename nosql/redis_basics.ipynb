{
 "cells": [
  {
   "cell_type": "markdown",
   "metadata": {},
   "source": [
    "# Biomedical Data Bases, 2022-2023\n",
    "### NoSQL databases\n",
    "These are notes by prof. Davide Salomoni (d.salomoni@unibo.it) for the Biomedical Data Base course at the University of Bologna, academic year 2022-2023."
   ]
  },
  {
   "cell_type": "code",
   "execution_count": null,
   "metadata": {},
   "outputs": [],
   "source": [
    "# recap: example of dictionaries in Python\n",
    "marks = {'John': 27, 'Paul': 20, 'Rose': 30, 'Jenny': 'LOW'}\n",
    "print(marks)\n",
    "print('Rose got', marks['Rose'])\n",
    "print('Jenny got', marks['Jenny'])"
   ]
  },
  {
   "cell_type": "markdown",
   "metadata": {
    "tags": []
   },
   "source": [
    "### Install the redis module and try out the first commands\n",
    "\n",
    "Remember that __you should have already started the Redis container__. Look up how to do it in the course slides or in the main README page of this GitHub repository."
   ]
  },
  {
   "cell_type": "code",
   "execution_count": null,
   "metadata": {},
   "outputs": [],
   "source": [
    "! pip install redis"
   ]
  },
  {
   "cell_type": "code",
   "execution_count": null,
   "metadata": {},
   "outputs": [],
   "source": [
    "import redis\n",
    "r = redis.Redis(host=\"my_redis\")\n",
    "print(r.ping())"
   ]
  },
  {
   "cell_type": "code",
   "execution_count": null,
   "metadata": {},
   "outputs": [],
   "source": [
    "r.set('temperature', 18.5)"
   ]
  },
  {
   "cell_type": "markdown",
   "metadata": {},
   "source": [
    "Note that in Python by default redis returns strings as _bytes_ (indicated by the _b_ letter before the number in the output below):"
   ]
  },
  {
   "cell_type": "code",
   "execution_count": null,
   "metadata": {},
   "outputs": [],
   "source": [
    "r.get('temperature')"
   ]
  },
  {
   "cell_type": "markdown",
   "metadata": {},
   "source": [
    "You can convert bytes to strings using _decode_. You could also connect to the Redis server using the parameter _decode_responses=True_ to have all output automatically converted to strings."
   ]
  },
  {
   "cell_type": "code",
   "execution_count": null,
   "metadata": {},
   "outputs": [],
   "source": [
    "r.get('temperature').decode()"
   ]
  },
  {
   "cell_type": "markdown",
   "metadata": {},
   "source": [
    "### Time-To-Live applied to keys"
   ]
  },
  {
   "cell_type": "code",
   "execution_count": null,
   "metadata": {},
   "outputs": [],
   "source": [
    "import time\n",
    "r.flushall() # delete ALL keys in the DB\n",
    "TTL = 5\n",
    "r.set('temperature', 18.5)\n",
    "r.expire('temperature', TTL)  # the key will be deleted after TTL seconds\n",
    "print(\"Temperature =\", r.get('temperature'))\n",
    "print(\"now sleeping for %s seconds...\" % (TTL))\n",
    "time.sleep(TTL)\n",
    "print(\"Temperature =\", r.get('temperature'))"
   ]
  },
  {
   "cell_type": "markdown",
   "metadata": {},
   "source": [
    "## Working with some Redis types\n",
    "\n",
    "Let's see how to set and get some of the Redis data types:"
   ]
  },
  {
   "cell_type": "code",
   "execution_count": null,
   "metadata": {},
   "outputs": [],
   "source": [
    "r.flushall()  # delete ALL keys in the DB\n",
    "\n",
    "# string or number\n",
    "r.set('Temperature', 18.5)\n",
    "\n",
    "# list, passing a python list\n",
    "males = ['Peter', 'Paul', 'John']\n",
    "r.lpush('Male_names', *males)\n",
    "# we can also create a Redis list passing an explicit list of strings to lpush\n",
    "r.lpush('Female_names', 'Sarah', 'Mary', 'Elizabeth')\n",
    "\n",
    "# set, passing a python set\n",
    "chapters = {'Chapter 1', 'Chapter 2'}\n",
    "r.sadd('Chapters1:2', *chapters)\n",
    "# we can also create a Redis set passing an explicit list of strings to sadd\n",
    "r.sadd('Chapters3:4', 'Chapter 3', 'Chapter 4')\n",
    "\n",
    "# hash (corresponding to a Python dictionary)\n",
    "my_dict = {'buongiorno':'buenos dias', 'buonasera':'buenas noches'}\n",
    "r.hset('Italian:Spanish', mapping=my_dict)\n",
    "\n",
    "# get the different data types from Redis\n",
    "print('STRING type in Redis') \n",
    "print('  Key: %s --> Value: %s' % ('Temperature', r.get('Temperature')))\n",
    "\n",
    "print('LIST type in Redis')\n",
    "print('  Key: %s --> Value: %s' % ('Male_names', r.lrange('Male_names', start=0, end=-1)))\n",
    "print('  Key: %s --> Value: %s' % ('Female_names', r.lrange('Female_names', start=0, end=-1)))\n",
    "\n",
    "print('SET type in Redis')\n",
    "print('  Key: %s --> Value: %s' % ('Chapters1:2', r.smembers('Chapters1:2')))\n",
    "print('  Key: %s --> Value: %s' % ('Chapters3:4', r.smembers('Chapters3:4')))\n",
    "\n",
    "print('HASH type in Redis')\n",
    "print('  Key: %s --> Value: %s' % ('Italian:Spanish', r.hgetall('Italian:Spanish')))"
   ]
  },
  {
   "cell_type": "markdown",
   "metadata": {},
   "source": [
    "### Sorted sets"
   ]
  },
  {
   "cell_type": "code",
   "execution_count": null,
   "metadata": {},
   "outputs": [],
   "source": [
    "r.flushall()  # delete ALL keys in the DB"
   ]
  },
  {
   "cell_type": "code",
   "execution_count": null,
   "metadata": {},
   "outputs": [],
   "source": [
    "# create a sorted set with key 'universities'\n",
    "r.zadd('universities', {'MIT':100, 'Stanford':98.4, 'Harvard':97.9, 'Caltech':97, 'Oxford':96.7})"
   ]
  },
  {
   "cell_type": "code",
   "execution_count": null,
   "metadata": {},
   "outputs": [],
   "source": [
    "# print the sorted set in ascending order\n",
    "r.zrange('universities', start=0, end=-1)"
   ]
  },
  {
   "cell_type": "code",
   "execution_count": null,
   "metadata": {},
   "outputs": [],
   "source": [
    "# print the sorted set in descending order\n",
    "r.zrange('universities', start=0, end=-1, desc=True)"
   ]
  },
  {
   "cell_type": "code",
   "execution_count": null,
   "metadata": {},
   "outputs": [],
   "source": [
    "# print the sorted set in descending order, including also the score associated to each element\n",
    "r.zrange('universities', start=0, end=-1, desc=True, withscores=True)"
   ]
  },
  {
   "cell_type": "code",
   "execution_count": null,
   "metadata": {},
   "outputs": [],
   "source": [
    "# print the universities with a score between 97 and 98\n",
    "r.zrange('universities', start=97, end=98, withscores=True, byscore=True)"
   ]
  },
  {
   "cell_type": "markdown",
   "metadata": {
    "tags": []
   },
   "source": [
    "## How fast is it?\n",
    "### Peformance measurements, using just _set()_ and _get()_\n",
    "\n",
    "Simple set and get of string items in Redis."
   ]
  },
  {
   "cell_type": "code",
   "execution_count": null,
   "metadata": {},
   "outputs": [],
   "source": [
    "import time\n",
    "r.flushall()  # delete ALL keys in the DB\n",
    "\n",
    "start = time.time()\n",
    "N = 20000\n",
    "for i in range(N):\n",
    "    key = \"key%s\" % i\n",
    "    value = \"value%s\" % i\n",
    "    r.set(key, value)\n",
    "delta = time.time() - start\n",
    "\n",
    "print(\"set: %d items in %.02f seconds\"% (N, delta), end=' ')\n",
    "print(\"(%.02f items/sec)\" % (N/delta))\n",
    "\n",
    "start = time.time()\n",
    "N = 20000\n",
    "for i in range(N):\n",
    "    key = \"key%s\" % i\n",
    "    value = r.get(key)\n",
    "delta = time.time() - start\n",
    "\n",
    "print(\"get: %d items in %.02f seconds\"% (N, delta), end=' ')\n",
    "print(\"(%.02f items/sec)\" % (N/delta))"
   ]
  },
  {
   "cell_type": "markdown",
   "metadata": {},
   "source": [
    "### Performance measurements, using pipelines\n",
    "\n",
    "A marked improvement (more than an order of magnitude) can be had with _pipelines_."
   ]
  },
  {
   "cell_type": "code",
   "execution_count": null,
   "metadata": {},
   "outputs": [],
   "source": [
    "import time\n",
    "r.flushall()  # delete ALL keys in the DB\n",
    "\n",
    "start = time.time()\n",
    "pipe = r.pipeline()\n",
    "N = 20000\n",
    "for i in range(N):\n",
    "    key = \"key%s\" % i\n",
    "    value = \"value%s\" % i\n",
    "    pipe.set(key, value)\n",
    "pipe.execute()\n",
    "delta = time.time() - start\n",
    "\n",
    "print(\"set: %d items in %.02f seconds\"% (N, delta), end=' ')\n",
    "print(\"(%.02f items/sec)\" % (N/delta))\n",
    "\n",
    "start = time.time()\n",
    "pipe = r.pipeline()\n",
    "N = 20000\n",
    "for i in range(N):\n",
    "    key = \"key%s\" % i\n",
    "    value = pipe.get(key)\n",
    "pipe.execute()\n",
    "delta = time.time() - start\n",
    "\n",
    "print(\"get: %d items in %.02f seconds\"% (N, delta), end=' ')\n",
    "print(\"(%.02f items/sec)\" % (N/delta))"
   ]
  },
  {
   "cell_type": "markdown",
   "metadata": {},
   "source": [
    "### Performance measurements, comparison with SQLite\n",
    "\n",
    "Here we try the same set and get with SQLite, which in this test performs better than the Redis pipeline above. "
   ]
  },
  {
   "cell_type": "code",
   "execution_count": null,
   "metadata": {},
   "outputs": [],
   "source": [
    "import sqlite3 as sql\n",
    "conn = sql.connect('test_perf.sqlite')\n",
    "cur = conn.cursor()\n",
    "cur.execute('''DROP TABLE IF EXISTS Performance;''')\n",
    "cur.execute('''CREATE TABLE Performance(\n",
    "                key TEXT NOT NULL UNIQUE,\n",
    "                value TEXT NOT NULL);\n",
    "            ''')\n",
    "conn.commit()\n",
    "conn.close()\n",
    "\n",
    "start = time.time()\n",
    "conn = sql.connect('test_perf.sqlite')\n",
    "cur = conn.cursor()\n",
    "N = 20000\n",
    "for i in range(N):\n",
    "    key = \"key%s\" % i\n",
    "    value = \"value%s\" % i\n",
    "    cur.execute('''INSERT INTO Performance VALUES(?, ?)''', (key,value))\n",
    "conn.commit()\n",
    "conn.close()\n",
    "delta = time.time() - start\n",
    "\n",
    "print(\"SQLite set: %d items in %.02f seconds\"% (N, delta), end=' ')\n",
    "print(\"(%.02f items/sec)\" % (N/delta))\n",
    "\n",
    "start = time.time()\n",
    "conn = sql.connect('test_perf.sqlite')\n",
    "cur = conn.cursor()\n",
    "cur.execute('''SELECT * from Performance''')\n",
    "results = cur.fetchall()\n",
    "for res in results:\n",
    "    (key, value) = res\n",
    "conn.close()\n",
    "delta = time.time() - start\n",
    "\n",
    "print(\"SQLite get: %d items in %.02f seconds\"% (N, delta), end=' ')\n",
    "print(\"(%.02f items/sec)\" % (N/delta))"
   ]
  },
  {
   "cell_type": "markdown",
   "metadata": {},
   "source": [
    "### Performance measurements, using _mset()_ and _mget()_\n",
    "\n",
    "However, with some wise usage of Redis built-in features (the _mset_ command to set multiple values), Redis outperforms SQLite. "
   ]
  },
  {
   "cell_type": "code",
   "execution_count": null,
   "metadata": {},
   "outputs": [],
   "source": [
    "import time\n",
    "r.flushall()  # delete ALL keys in the DB\n",
    "\n",
    "start = time.time()\n",
    "N = 20000\n",
    "my_dict = {\"key%s\" % i: \"value%s\" % i for i in range(N)}\n",
    "r.mset(my_dict)\n",
    "delta = time.time() - start\n",
    "\n",
    "print(\"mset: %d items in %.02f seconds\"% (N, delta), end=' ')\n",
    "print(\"(%.02f items/sec)\" % (N/delta))\n",
    "\n",
    "start = time.time()\n",
    "N = 20000\n",
    "keys = [\"key%s\" % i for i in range(N)]\n",
    "values = r.mget(keys)\n",
    "results = list(zip(keys, values))\n",
    "delta = time.time() - start\n",
    "\n",
    "print(\"mget: %d items in %.02f seconds\"% (N, delta), end=' ')\n",
    "print(\"(%.02f items/sec)\" % (N/delta))"
   ]
  },
  {
   "cell_type": "markdown",
   "metadata": {},
   "source": [
    "## Porting SQL to Redis\n",
    "\n",
    "Let's map a simple relational DB to Redis. Assume we have the following table in a relational DB:\n",
    "\n",
    "<img src=\"https://github.com/dsalomoni/bdb-2023/raw/main/nosql/RDBMS_sample.png\" alt=\"A sample RDBMS table\" style=\"height: 120px;\"/>\n",
    "\n",
    "Note the unique key, represented by the Id column."
   ]
  },
  {
   "cell_type": "code",
   "execution_count": null,
   "metadata": {},
   "outputs": [],
   "source": [
    "# create several redis hashes, each one corresponding to an RDBMS row\n",
    "r.hset('id:1', mapping={'first':'John', 'last':'Doe', 'age': 21, 'email':'john@doe.com'})\n",
    "r.hset('id:2', mapping={'first':'Alice', 'last':'Doe', 'age': 22, 'email':'alice@doe.com'})\n",
    "r.hset('id:3', mapping={'first':'Rose', 'last':'Short', 'age': 21, 'email':'rose@short.com'})\n",
    "\n",
    "# the Redis equivalent to the SQL 'SELECT * FROM Students WHERE ID=1' would then be:\n",
    "r.hgetall('id:1')"
   ]
  },
  {
   "cell_type": "code",
   "execution_count": null,
   "metadata": {},
   "outputs": [],
   "source": [
    "# create a sorted set with ages, mapping them to the corresponding hash key above\n",
    "r.zadd('age', mapping={'id:1':21, 'id:2':22, 'id:3':21})\n",
    "print(\"all elements:\", r.zrange('age', start=0, end=-1, withscores=True))"
   ]
  },
  {
   "cell_type": "code",
   "execution_count": null,
   "metadata": {},
   "outputs": [],
   "source": [
    "# the Redis equivalent to the SQL 'SELECT * FROM Students WHERE Age < 22' would then be:\n",
    "result = r.zrange('age', start=0, end=21, byscore=True)\n",
    "print(\"age<21:\", result)"
   ]
  },
  {
   "cell_type": "code",
   "execution_count": null,
   "metadata": {},
   "outputs": [],
   "source": [
    "# now get all the info for the returned results:\n",
    "for res in result:\n",
    "    print(r.hgetall(res))"
   ]
  }
 ],
 "metadata": {
  "kernelspec": {
   "display_name": "Python 3 (ipykernel)",
   "language": "python",
   "name": "python3"
  },
  "language_info": {
   "codemirror_mode": {
    "name": "ipython",
    "version": 3
   },
   "file_extension": ".py",
   "mimetype": "text/x-python",
   "name": "python",
   "nbconvert_exporter": "python",
   "pygments_lexer": "ipython3",
   "version": "3.10.4"
  }
 },
 "nbformat": 4,
 "nbformat_minor": 4
}
